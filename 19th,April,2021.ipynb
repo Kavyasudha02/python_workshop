{
 "cells": [
  {
   "cell_type": "code",
   "execution_count": 28,
   "metadata": {},
   "outputs": [
    {
     "name": "stdout",
     "output_type": "stream",
     "text": [
      "student count:5\n",
      "lower range:0\n",
      "upper range:100\n",
      "avg 42.2\n",
      "pass percentage: 60.0\n",
      "fail percentage: 40.0\n",
      "distinction percentage: 40.0\n",
      "maximum frequency: 1\n",
      "minimum frequncy: 1\n"
     ]
    }
   ],
   "source": [
    "from random import randint\n",
    "def marksgen(n,lb,ub):\n",
    "    with open('datafiles/marks.txt','w') as f:\n",
    "        for i in range(0,n):\n",
    "            r=randint(lb,ub)\n",
    "            f.write(str(r)+'\\n')\n",
    "    return\n",
    "n=int(input(\"student count:\"))\n",
    "lb=int(input(\"lower range:\"))\n",
    "ub=int(input(\"upper range:\"))\n",
    "marksgen(n,lb,ub)\n",
    "with open('datafiles/marks.txt') as f:\n",
    "    pass_count=0\n",
    "    fail_count=0\n",
    "    dist_count=0\n",
    "    max_count=0\n",
    "    min_count=0\n",
    "    sum1=0\n",
    "    a=[]\n",
    "    for i in f:\n",
    "        a.append(int(i))\n",
    "        sum1=sum1+int(i)\n",
    "        if(int(i)>=35):\n",
    "            pass_count+=1\n",
    "        else:\n",
    "            fail_count+=1\n",
    "        if(int(i)>=75):\n",
    "            dist_count+=1\n",
    "    maxi=max(a)\n",
    "    mini=min(a)\n",
    "    for i in a:\n",
    "        if(i==maxi):\n",
    "            max_count+=1\n",
    "        if(i==mini):\n",
    "            min_count+=1\n",
    "    average=sum1/n\n",
    "    pass_per=(pass_count/n)*100\n",
    "    fail_per=(fail_count/n)*100\n",
    "    dist_per=(dist_count/n)*100\n",
    "    print(\"avg\",average)\n",
    "    print(\"pass percentage:\",pass_per)\n",
    "    print(\"fail percentage:\",fail_per)\n",
    "    print(\"distinction percentage:\",dist_per) \n",
    "    print(\"maximum frequency:\",max_count)\n",
    "    print(\"minimum frequncy:\",min_count)"
   ]
  },
  {
   "cell_type": "markdown",
   "metadata": {},
   "source": [
    "## Object Oriented Programming Language\n",
    "- Class \n",
    "    - collection of variables and methods\n",
    "    - syntax:\n",
    "            - class classname:\n",
    "                '''documentation'''\n",
    "                variables\n",
    "                methods\n",
    "     - Rules:\n",
    "         - should be capital\n",
    "         - doesn't allow spaces\n",
    "         - soesn't allow keywords\n",
    "- Object\n",
    "- Constructor\n",
    "- Inheritance\n",
    "- Packages and Modules using OOPS"
   ]
  },
  {
   "cell_type": "code",
   "execution_count": 5,
   "metadata": {},
   "outputs": [
    {
     "name": "stdout",
     "output_type": "stream",
     "text": [
      "10\n",
      "from exmp function....\n",
      "basic example\n"
     ]
    }
   ],
   "source": [
    "class Exm:\n",
    "        '''basic example'''\n",
    "        a=10\n",
    "        def exmp():\n",
    "            return('from exmp function....')\n",
    "print(Exm.a)\n",
    "print(Exm.exmp())\n",
    "print(Exm.__doc__)"
   ]
  },
  {
   "cell_type": "code",
   "execution_count": 10,
   "metadata": {},
   "outputs": [
    {
     "name": "stdout",
     "output_type": "stream",
     "text": [
      "5\n",
      "120\n"
     ]
    }
   ],
   "source": [
    "class operations:\n",
    "    def factorial(n):\n",
    "        fact=1\n",
    "        for i in range(1,n+1):\n",
    "            fact=fact*i\n",
    "        return fact\n",
    "n=int(input())\n",
    "print(operations.factorial(n))"
   ]
  },
  {
   "cell_type": "code",
   "execution_count": 20,
   "metadata": {},
   "outputs": [
    {
     "name": "stdout",
     "output_type": "stream",
     "text": [
      "5\n",
      "120\n"
     ]
    }
   ],
   "source": [
    "class operations:\n",
    "    def factorial(n):\n",
    "        if(n==1 or n==0):\n",
    "            return 1\n",
    "        else:\n",
    "            return n*factorial(n-1)\n",
    "n=int(input())\n",
    "#a=operations()\n",
    "#print(a.factorial(n))\n",
    "print(operations.factorial(n))"
   ]
  },
  {
   "cell_type": "code",
   "execution_count": 22,
   "metadata": {},
   "outputs": [
    {
     "name": "stdout",
     "output_type": "stream",
     "text": [
      "5\n",
      "120\n"
     ]
    }
   ],
   "source": [
    "class operations:\n",
    "    def factorial(self,n):\n",
    "        if(n==1 or n==0):\n",
    "            return 1\n",
    "        else:\n",
    "            return n*factorial(n-1)\n",
    "n=int(input())\n",
    "a=operations()\n",
    "print(a.factorial(n))\n",
    "#print(operations.factorial(n))"
   ]
  },
  {
   "cell_type": "code",
   "execution_count": 26,
   "metadata": {},
   "outputs": [
    {
     "name": "stdout",
     "output_type": "stream",
     "text": [
      "6\n",
      "perfect number\n"
     ]
    }
   ],
   "source": [
    "class A:\n",
    "    def perfect(self,n):\n",
    "        sum1=0\n",
    "        for i in range(1,n):\n",
    "            if(n%i==0):\n",
    "                sum1+=i\n",
    "        if(sum1==n):\n",
    "            return \"perfect number\"\n",
    "        else:\n",
    "            return \"not a perfect number\"\n",
    "a=A()\n",
    "b=int(input())\n",
    "print(a.perfect(b))"
   ]
  },
  {
   "cell_type": "code",
   "execution_count": 27,
   "metadata": {},
   "outputs": [
    {
     "name": "stdout",
     "output_type": "stream",
     "text": [
      "5\n",
      "prime\n"
     ]
    }
   ],
   "source": [
    "class B:\n",
    "    def prime(self,n):\n",
    "        count=0\n",
    "        for i in range(2,n):\n",
    "            if(n%i==0):\n",
    "                count+=1\n",
    "        if(count==0):\n",
    "            return 'prime'\n",
    "        else:\n",
    "            return 'composite'\n",
    "a=B()\n",
    "b=int(input())\n",
    "print(a.prime(b))"
   ]
  },
  {
   "cell_type": "code",
   "execution_count": 33,
   "metadata": {},
   "outputs": [
    {
     "name": "stdout",
     "output_type": "stream",
     "text": [
      "B's constructor\n",
      "19\n",
      "prime\n"
     ]
    }
   ],
   "source": [
    "class B:\n",
    "    def __init__(self):\n",
    "        print(\"B's constructor\")\n",
    "    def prime(self,n):\n",
    "        count=0\n",
    "        for i in range(2,n):\n",
    "            if(n%i==0):\n",
    "                count+=1\n",
    "        if(count==0):\n",
    "            return 'prime'\n",
    "        else:\n",
    "            return 'composite'\n",
    "a=B()\n",
    "b=int(input())\n",
    "print(a.prime(b))\n",
    "    "
   ]
  },
  {
   "cell_type": "code",
   "execution_count": 34,
   "metadata": {},
   "outputs": [
    {
     "data": {
      "text/plain": [
       "11"
      ]
     },
     "execution_count": 34,
     "metadata": {},
     "output_type": "execute_result"
    }
   ],
   "source": [
    "class Paracons:\n",
    "    def __init__(self,a,b):\n",
    "        self.a=a\n",
    "        self.b=b\n",
    "    def add(self):\n",
    "        return self.a+self.b\n",
    "pc=Paracons(10,1)\n",
    "pc.add()"
   ]
  },
  {
   "cell_type": "code",
   "execution_count": 35,
   "metadata": {},
   "outputs": [
    {
     "name": "stdout",
     "output_type": "stream",
     "text": [
      "from 2nd constructor\n"
     ]
    }
   ],
   "source": [
    "class Multicons:\n",
    "    def __init__(self):\n",
    "        print(\"from 1st constructor\")\n",
    "    def __init__(self):\n",
    "        print(\"from 2nd constructor\")\n",
    "mc=Multicons()"
   ]
  },
  {
   "cell_type": "markdown",
   "metadata": {},
   "source": [
    "#### Inheritance"
   ]
  },
  {
   "cell_type": "code",
   "execution_count": 40,
   "metadata": {},
   "outputs": [
    {
     "name": "stdout",
     "output_type": "stream",
     "text": [
      "from parent class\n",
      "from child class\n"
     ]
    }
   ],
   "source": [
    "#Single Inheritance\n",
    "class A():\n",
    "    a=1\n",
    "    def ca():\n",
    "        return (\"from parent class\")\n",
    "class B(A):\n",
    "    b=2\n",
    "    def cb():\n",
    "        return(\"from child class\")\n",
    "obj=B\n",
    "print(obj.ca())\n",
    "print(obj.cb())\n",
    "    "
   ]
  },
  {
   "cell_type": "code",
   "execution_count": 41,
   "metadata": {},
   "outputs": [
    {
     "name": "stdout",
     "output_type": "stream",
     "text": [
      "from parent class\n",
      "from child class\n",
      "from class c\n"
     ]
    }
   ],
   "source": [
    "#multi level\n",
    "class A():\n",
    "    a=1\n",
    "    def ca():\n",
    "        return (\"from parent class\")\n",
    "class B(A):\n",
    "    b=2\n",
    "    def cb():\n",
    "        return(\"from child class\")\n",
    "class C(B):\n",
    "    c=2\n",
    "    def cc():\n",
    "        return(\"from class c\")\n",
    "obj=C\n",
    "print(obj.ca())\n",
    "print(obj.cb())\n",
    "print(obj.cc())\n",
    "    \n",
    "\n"
   ]
  },
  {
   "cell_type": "code",
   "execution_count": 44,
   "metadata": {},
   "outputs": [
    {
     "name": "stdout",
     "output_type": "stream",
     "text": [
      "from parent class\n",
      "from child class\n",
      "from class c\n"
     ]
    }
   ],
   "source": [
    "# multiple\n",
    "class A():\n",
    "    a=1\n",
    "    def ca():\n",
    "        return (\"from parent class\")\n",
    "class B():\n",
    "    b=2\n",
    "    def cb():\n",
    "        return(\"from child class\")\n",
    "class C(A,B):\n",
    "    c=2\n",
    "    def cc():\n",
    "        return(\"from class c\")\n",
    "obj=C\n",
    "print(obj.ca())\n",
    "print(obj.cb())\n",
    "print(obj.cc())\n",
    " "
   ]
  },
  {
   "cell_type": "code",
   "execution_count": 46,
   "metadata": {},
   "outputs": [
    {
     "name": "stdout",
     "output_type": "stream",
     "text": [
      "from parent class\n",
      "from class c\n"
     ]
    }
   ],
   "source": [
    "# hierarchial\n",
    "class A():\n",
    "    a=1\n",
    "    def ca():\n",
    "        return (\"from parent class\")\n",
    "class B(A):\n",
    "    b=2\n",
    "    def cb():\n",
    "        return(\"from child class\")\n",
    "class C(A):\n",
    "    c=2\n",
    "    def cc():\n",
    "        return(\"from class c\")\n",
    "obj=C\n",
    "print(obj.ca())\n",
    "print(obj.cc())\n",
    "     \n",
    "    "
   ]
  },
  {
   "cell_type": "code",
   "execution_count": 49,
   "metadata": {},
   "outputs": [
    {
     "name": "stdout",
     "output_type": "stream",
     "text": [
      "['MyMath', '__builtins__', '__cached__', '__doc__', '__file__', '__loader__', '__name__', '__package__', '__spec__', 'duplicate', 'unique']\n"
     ]
    }
   ],
   "source": [
    "from package import module\n",
    "print(dir(module))"
   ]
  },
  {
   "cell_type": "code",
   "execution_count": 1,
   "metadata": {},
   "outputs": [
    {
     "data": {
      "text/plain": [
       "15"
      ]
     },
     "execution_count": 1,
     "metadata": {},
     "output_type": "execute_result"
    }
   ],
   "source": [
    "from package.module import MyMath\n",
    "ob=MyMath(7,8)\n",
    "ob.add()"
   ]
  },
  {
   "cell_type": "code",
   "execution_count": null,
   "metadata": {},
   "outputs": [],
   "source": []
  },
  {
   "cell_type": "code",
   "execution_count": null,
   "metadata": {},
   "outputs": [],
   "source": []
  }
 ],
 "metadata": {
  "kernelspec": {
   "display_name": "Python 3",
   "language": "python",
   "name": "python3"
  },
  "language_info": {
   "codemirror_mode": {
    "name": "ipython",
    "version": 3
   },
   "file_extension": ".py",
   "mimetype": "text/x-python",
   "name": "python",
   "nbconvert_exporter": "python",
   "pygments_lexer": "ipython3",
   "version": "3.8.5"
  }
 },
 "nbformat": 4,
 "nbformat_minor": 4
}
