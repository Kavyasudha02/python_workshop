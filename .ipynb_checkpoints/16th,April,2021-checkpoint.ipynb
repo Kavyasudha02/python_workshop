{
 "cells": [
  {
   "cell_type": "markdown",
   "metadata": {},
   "source": [
    "## Loops"
   ]
  },
  {
   "cell_type": "markdown",
   "metadata": {},
   "source": [
    "* ***for loop***\n",
    "    syntax: 1.for iter_var in range(arg): -->integers\n",
    "                  //statements\n",
    "            2.for iter_var in var_name: -->strings\n",
    "                  //statements"
   ]
  },
  {
   "cell_type": "code",
   "execution_count": 3,
   "metadata": {},
   "outputs": [],
   "source": [
    "# printing numbers(single parameter)"
   ]
  },
  {
   "cell_type": "code",
   "execution_count": 4,
   "metadata": {},
   "outputs": [
    {
     "name": "stdout",
     "output_type": "stream",
     "text": [
      "0\n",
      "1\n",
      "2\n",
      "3\n",
      "4\n",
      "5\n",
      "6\n",
      "7\n",
      "8\n",
      "9\n"
     ]
    }
   ],
   "source": [
    "for i in range(10):\n",
    "    print(i)"
   ]
  },
  {
   "cell_type": "code",
   "execution_count": 5,
   "metadata": {},
   "outputs": [],
   "source": [
    "# printing numbers(two parameters)"
   ]
  },
  {
   "cell_type": "code",
   "execution_count": 6,
   "metadata": {},
   "outputs": [
    {
     "name": "stdout",
     "output_type": "stream",
     "text": [
      "1\n",
      "2\n",
      "3\n",
      "4\n",
      "5\n",
      "6\n",
      "7\n",
      "8\n",
      "9\n",
      "10\n"
     ]
    }
   ],
   "source": [
    "for i in range(1,11):\n",
    "    print(i)"
   ]
  },
  {
   "cell_type": "code",
   "execution_count": 7,
   "metadata": {},
   "outputs": [],
   "source": [
    "# printing numbesrs(three parameters)"
   ]
  },
  {
   "cell_type": "code",
   "execution_count": 8,
   "metadata": {},
   "outputs": [
    {
     "name": "stdout",
     "output_type": "stream",
     "text": [
      "1\n",
      "3\n",
      "5\n",
      "7\n",
      "9\n"
     ]
    }
   ],
   "source": [
    "for i in range(1,11,2):\n",
    "    print(i)"
   ]
  },
  {
   "cell_type": "code",
   "execution_count": 9,
   "metadata": {},
   "outputs": [],
   "source": [
    "# take two values from the user and print even numbers in between them"
   ]
  },
  {
   "cell_type": "code",
   "execution_count": 14,
   "metadata": {},
   "outputs": [
    {
     "name": "stdout",
     "output_type": "stream",
     "text": [
      "1\n",
      "10\n",
      "2 4 6 8 10 "
     ]
    }
   ],
   "source": [
    "a=int(input())\n",
    "b=int(input())\n",
    "if(a<b):):\n",
    "    for i in range(a,b+1\n",
    "        if(i%2==0):\n",
    "            print(i,end=' ')\n",
    "else:\n",
    "    for i in range(b,a+1):\n",
    "        if(i%2==0):\n",
    "            print(i,end=' ')\n",
    "    \n",
    "        "
   ]
  },
  {
   "cell_type": "code",
   "execution_count": 15,
   "metadata": {},
   "outputs": [],
   "source": [
    "# printing even numbers using step count"
   ]
  },
  {
   "cell_type": "code",
   "execution_count": 16,
   "metadata": {},
   "outputs": [
    {
     "name": "stdout",
     "output_type": "stream",
     "text": [
      "20\n",
      "12\n",
      "12 14 16 18 20 "
     ]
    }
   ],
   "source": [
    "a=int(input())\n",
    "b=int(input())\n",
    "if(a<b):\n",
    "    for i in range(a,b+1,2):\n",
    "        print(i,end=' ')\n",
    "else:\n",
    "    for i in range(b,a+1,2):\n",
    "        print(i,end=' ')\n"
   ]
  },
  {
   "cell_type": "code",
   "execution_count": 17,
   "metadata": {},
   "outputs": [],
   "source": [
    "# print n natural numbers and average of that n natural numbers"
   ]
  },
  {
   "cell_type": "code",
   "execution_count": 24,
   "metadata": {},
   "outputs": [
    {
     "name": "stdout",
     "output_type": "stream",
     "text": [
      "enter the no.of numbers:5\n",
      "1 2 3 4 5 \n",
      "\n",
      "average= 3.0\n"
     ]
    }
   ],
   "source": [
    "n=int(input(\"enter the no.of numbers:\"))\n",
    "sum1=0\n",
    "for i in range(1,n+1):\n",
    "    print(i,end=' ')\n",
    "    sum1=sum1+i\n",
    "print(\"\\n\")\n",
    "print(\"average=\",sum1/n)"
   ]
  },
  {
   "cell_type": "code",
   "execution_count": 25,
   "metadata": {},
   "outputs": [],
   "source": [
    "# take two variables as lower bouynd and upper bound and calculate sum and average in that range"
   ]
  },
  {
   "cell_type": "code",
   "execution_count": 32,
   "metadata": {},
   "outputs": [
    {
     "name": "stdout",
     "output_type": "stream",
     "text": [
      "3\n",
      "8\n",
      "3 4 5 6 7 8 \n",
      "\n",
      "sum1= 33\n",
      "\n",
      "average= 5.5\n"
     ]
    }
   ],
   "source": [
    "a=int(input())            \n",
    "b=int(input())              # no need to be that complex,can just have the code present in if block \n",
    "n=0\n",
    "sum1=0\n",
    "if(a<b):\n",
    "    for i in range(a,b+1):\n",
    "            print(i,end=' ')\n",
    "            n=n+1\n",
    "            sum1=sum1+i\n",
    "    print(\"\\n\")\n",
    "    print(\"sum1=\",sum1)\n",
    "    print(\"\\naverage=\",sum1/n)\n",
    "else:\n",
    "    for i in range(b,a+1):\n",
    "        print(i,end=' ')\n",
    "        n=n+1\n",
    "        sum1=sum1+i\n",
    "    print(\"\\n\")\n",
    "    print(\"sum=\",sum1)\n",
    "    print(\"\\naverage=\",sum1/n)\n",
    "    "
   ]
  },
  {
   "cell_type": "code",
   "execution_count": 36,
   "metadata": {},
   "outputs": [],
   "source": [
    "# printing the sum and average of even numbers in the given range"
   ]
  },
  {
   "cell_type": "code",
   "execution_count": 34,
   "metadata": {},
   "outputs": [
    {
     "name": "stdout",
     "output_type": "stream",
     "text": [
      "8\n",
      "2\n",
      "2 4 6 8 \n",
      "\n",
      "sum= 20\n",
      "\n",
      "average= 5.0\n"
     ]
    }
   ],
   "source": [
    "a=int(input())            \n",
    "b=int(input())              # no need to be that complex,can just have the code present in if block \n",
    "n=0\n",
    "sum1=0\n",
    "if(a<b):\n",
    "    for i in range(a,b+1):\n",
    "        if(i%2==0):\n",
    "            print(i,end=' ')\n",
    "            n=n+1\n",
    "            sum1=sum1+i\n",
    "    print(\"\\n\")\n",
    "    print(\"sum1=\",sum1)\n",
    "    print(\"\\naverage=\",sum1/n)\n",
    "else:\n",
    "    for i in range(b,a+1):\n",
    "        if(i%2==0):\n",
    "            print(i,end=' ')\n",
    "            n=n+1\n",
    "            sum1=sum1+i\n",
    "    print(\"\\n\")\n",
    "    print(\"sum=\",sum1)\n",
    "    print(\"\\naverage=\",sum1/n)\n",
    "    "
   ]
  },
  {
   "cell_type": "code",
   "execution_count": 35,
   "metadata": {},
   "outputs": [],
   "source": [
    "# taking input as string format in the above problem"
   ]
  },
  {
   "cell_type": "code",
   "execution_count": 42,
   "metadata": {},
   "outputs": [
    {
     "name": "stdout",
     "output_type": "stream",
     "text": [
      "5\n",
      "7\n",
      "5\n",
      "6\n",
      "7\n",
      "sum: 18\n",
      "average: 6.0\n"
     ]
    }
   ],
   "source": [
    "n=input()            \n",
    "n1=input()          \n",
    "sum1=0\n",
    "count=0\n",
    "for i in range(int(n),int(n1)+1):\n",
    "    count=count+1\n",
    "    print(i)\n",
    "    sum1=sum1+i\n",
    "print(\"sum:\",sum1)\n",
    "print(\"average:\",sum1/count)"
   ]
  },
  {
   "cell_type": "code",
   "execution_count": 44,
   "metadata": {},
   "outputs": [],
   "source": [
    "# print factorial of a number"
   ]
  },
  {
   "cell_type": "code",
   "execution_count": 45,
   "metadata": {},
   "outputs": [
    {
     "name": "stdout",
     "output_type": "stream",
     "text": [
      "5\n",
      "120\n"
     ]
    }
   ],
   "source": [
    "n=int(input())\n",
    "fact=1\n",
    "for i in range(1,n+1):\n",
    "    fact=fact*i\n",
    "print(fact)"
   ]
  },
  {
   "cell_type": "code",
   "execution_count": 46,
   "metadata": {},
   "outputs": [],
   "source": [
    "# checking for the prime number"
   ]
  },
  {
   "cell_type": "code",
   "execution_count": 9,
   "metadata": {},
   "outputs": [
    {
     "name": "stdout",
     "output_type": "stream",
     "text": [
      "35\n",
      "not a prime\n"
     ]
    }
   ],
   "source": [
    "n=int(input())\n",
    "fact_count=0\n",
    "if(n>1):\n",
    "    for i in range(1,n+1):\n",
    "        if(n%i==0):\n",
    "            fact_count+=1\n",
    "if(fact_count==2):\n",
    "    print(\"prime\")\n",
    "else:\n",
    "    print(\"not a prime\")"
   ]
  },
  {
   "cell_type": "code",
   "execution_count": 20,
   "metadata": {},
   "outputs": [],
   "source": [
    "# checking the given number is a perfect number or not(point to be noted: don't consider itself factor)"
   ]
  },
  {
   "cell_type": "code",
   "execution_count": 8,
   "metadata": {},
   "outputs": [
    {
     "name": "stdout",
     "output_type": "stream",
     "text": [
      "6\n",
      "perfect number\n"
     ]
    }
   ],
   "source": [
    "n=int(input())\n",
    "sum1=0\n",
    "for i in range(1,n):\n",
    "    if(n%i==0):\n",
    "        sum1=sum1+i\n",
    "if(n==sum1):\n",
    "    print(\"perfect number\")\n",
    "else:\n",
    "    print(\"not a perfect number\")\n",
    "        "
   ]
  },
  {
   "cell_type": "code",
   "execution_count": 19,
   "metadata": {},
   "outputs": [
    {
     "name": "stdout",
     "output_type": "stream",
     "text": [
      "6\n",
      "[1, 2, 3]\n",
      "perfect number\n"
     ]
    }
   ],
   "source": [
    "n=int(input())\n",
    "l1=[]\n",
    "sum1=0\n",
    "for i in range(1,n):\n",
    "    if(n%i==0):\n",
    "        l1.append(i)\n",
    "print(l1)\n",
    "for i in range(len(l1)):\n",
    "    sum1=sum1+l1[i]\n",
    "    \n",
    "if(n==sum1):\n",
    "    print(\"perfect number\")\n",
    "else:\n",
    "    print(\"not a perfect number\")\n"
   ]
  },
  {
   "cell_type": "code",
   "execution_count": 1,
   "metadata": {},
   "outputs": [],
   "source": [
    "#  checking the number is perfect if it is even.if the given is odd then find the factorial of that number"
   ]
  },
  {
   "cell_type": "code",
   "execution_count": 7,
   "metadata": {},
   "outputs": [
    {
     "name": "stdout",
     "output_type": "stream",
     "text": [
      "8\n",
      "not a perfect number\n"
     ]
    }
   ],
   "source": [
    "n=int(input())\n",
    "fact=1\n",
    "sum1=0\n",
    "if(n%2==0):\n",
    "    for i in range(1,n):\n",
    "        if(n%i==0):\n",
    "            sum1=sum1+i\n",
    "    if(n==sum1):\n",
    "        print(\"perfect number\")\n",
    "    else:\n",
    "        print(\"not a perfect number\")\n",
    "else:\n",
    "    for i in range(1,n+1):\n",
    "        fact=fact*i\n",
    "    print(\"factorial of\",n,\":\",fact)\n",
    "    \n",
    "        \n",
    "    "
   ]
  },
  {
   "cell_type": "code",
   "execution_count": 9,
   "metadata": {},
   "outputs": [],
   "source": [
    "# multiplication table"
   ]
  },
  {
   "cell_type": "code",
   "execution_count": 11,
   "metadata": {},
   "outputs": [
    {
     "name": "stdout",
     "output_type": "stream",
     "text": [
      "2\n",
      "2 * 1 = 2\n",
      "2 * 2 = 4\n",
      "2 * 3 = 6\n",
      "2 * 4 = 8\n",
      "2 * 5 = 10\n",
      "2 * 6 = 12\n",
      "2 * 7 = 14\n",
      "2 * 8 = 16\n",
      "2 * 9 = 18\n",
      "2 * 10 = 20\n"
     ]
    }
   ],
   "source": [
    "n=int(input())\n",
    "for i in range(1,11):\n",
    "    print(n,\"*\",i,\"=\",n*i)"
   ]
  },
  {
   "cell_type": "code",
   "execution_count": 12,
   "metadata": {},
   "outputs": [],
   "source": [
    "#  checking the number is perfect if it is even.if the given is odd then find the factorial of that number using string format"
   ]
  },
  {
   "cell_type": "code",
   "execution_count": 17,
   "metadata": {},
   "outputs": [
    {
     "name": "stdout",
     "output_type": "stream",
     "text": [
      "5\n",
      "factorial of 5 : 120\n"
     ]
    }
   ],
   "source": [
    "n=(input())\n",
    "fact=1\n",
    "sum1=0\n",
    "if(int(n)%2==0):\n",
    "    for i in range(1,int(n)):\n",
    "        if(int(n)%i==0):\n",
    "            sum1=sum1+i\n",
    "    if(int(n)==sum1):\n",
    "        print(\"perfect number\")\n",
    "    else:\n",
    "        print(\"not a perfect number\")\n",
    "else:\n",
    "    for i in range(1,int(n)+1):\n",
    "        fact=fact*i\n",
    "    print(\"factorial of\",n,\":\",fact)"
   ]
  },
  {
   "cell_type": "code",
   "execution_count": 1,
   "metadata": {},
   "outputs": [],
   "source": [
    "# group of multiplication tables"
   ]
  },
  {
   "cell_type": "code",
   "execution_count": 3,
   "metadata": {},
   "outputs": [
    {
     "name": "stdout",
     "output_type": "stream",
     "text": [
      "3\n",
      "1 * 1 = 1\n",
      "1 * 2 = 2\n",
      "1 * 3 = 3\n",
      "1 * 4 = 4\n",
      "1 * 5 = 5\n",
      "1 * 6 = 6\n",
      "1 * 7 = 7\n",
      "1 * 8 = 8\n",
      "1 * 9 = 9\n",
      "1 * 10 = 10\n",
      "\n",
      "\n",
      "2 * 1 = 2\n",
      "2 * 2 = 4\n",
      "2 * 3 = 6\n",
      "2 * 4 = 8\n",
      "2 * 5 = 10\n",
      "2 * 6 = 12\n",
      "2 * 7 = 14\n",
      "2 * 8 = 16\n",
      "2 * 9 = 18\n",
      "2 * 10 = 20\n",
      "\n",
      "\n",
      "3 * 1 = 3\n",
      "3 * 2 = 6\n",
      "3 * 3 = 9\n",
      "3 * 4 = 12\n",
      "3 * 5 = 15\n",
      "3 * 6 = 18\n",
      "3 * 7 = 21\n",
      "3 * 8 = 24\n",
      "3 * 9 = 27\n",
      "3 * 10 = 30\n",
      "\n",
      "\n"
     ]
    }
   ],
   "source": [
    "n=int(input())\n",
    "for i in range(1,n+1):\n",
    "    for j in range(1,11):\n",
    "        print(i,\"*\",j,\"=\",i*j)\n",
    "    print(\"\\n\")"
   ]
  },
  {
   "cell_type": "markdown",
   "metadata": {},
   "source": [
    "### Jump statements"
   ]
  },
  {
   "cell_type": "markdown",
   "metadata": {},
   "source": [
    "* ***Break***\n",
    "* ***Continue***"
   ]
  },
  {
   "cell_type": "code",
   "execution_count": 5,
   "metadata": {},
   "outputs": [
    {
     "name": "stdout",
     "output_type": "stream",
     "text": [
      "6\n",
      "0 1 2 3 "
     ]
    }
   ],
   "source": [
    "n= int(input())\n",
    "for i in range(n+1):\n",
    "    if(i==4):\n",
    "        break\n",
    "    print(i,end=' ')"
   ]
  },
  {
   "cell_type": "code",
   "execution_count": 6,
   "metadata": {},
   "outputs": [
    {
     "name": "stdout",
     "output_type": "stream",
     "text": [
      "6\n",
      "0 1 2 3 5 6 "
     ]
    }
   ],
   "source": [
    "n= int(input())\n",
    "for i in range(n+1):\n",
    "    if(i==4):\n",
    "        continue\n",
    "    print(i,end=' ')"
   ]
  },
  {
   "cell_type": "markdown",
   "metadata": {},
   "source": [
    "* ***using for loops to strings*** "
   ]
  },
  {
   "cell_type": "code",
   "execution_count": 1,
   "metadata": {},
   "outputs": [
    {
     "name": "stdout",
     "output_type": "stream",
     "text": [
      "python\n",
      "p y t h o n "
     ]
    }
   ],
   "source": [
    "name=input()\n",
    "for i in name:\n",
    "    print(i,end=\" \")"
   ]
  },
  {
   "cell_type": "markdown",
   "metadata": {},
   "source": [
    "* **ASCII Values**"
   ]
  },
  {
   "cell_type": "markdown",
   "metadata": {},
   "source": [
    "* ord()-->used to calculate ASCII value from a character\n",
    "* chr()-->used to calculate character from the ASCII Value"
   ]
  },
  {
   "cell_type": "code",
   "execution_count": 2,
   "metadata": {},
   "outputs": [
    {
     "name": "stdout",
     "output_type": "stream",
     "text": [
      "97\n",
      "65\n",
      "52\n"
     ]
    }
   ],
   "source": [
    "print(ord('a'))\n",
    "print(ord('A'))\n",
    "print(ord('4'))"
   ]
  },
  {
   "cell_type": "code",
   "execution_count": 3,
   "metadata": {},
   "outputs": [
    {
     "name": "stdout",
     "output_type": "stream",
     "text": [
      "A\n",
      "o\n",
      "b\n"
     ]
    }
   ],
   "source": [
    "print(chr(65))\n",
    "print(chr(111))\n",
    "print(chr(98))"
   ]
  },
  {
   "cell_type": "code",
   "execution_count": 4,
   "metadata": {},
   "outputs": [],
   "source": [
    "# printing ASCII value of chracters present in the given string"
   ]
  },
  {
   "cell_type": "code",
   "execution_count": 32,
   "metadata": {},
   "outputs": [
    {
     "name": "stdout",
     "output_type": "stream",
     "text": [
      "Python\n",
      "80 121 116 104 111 110 "
     ]
    }
   ],
   "source": [
    "str1=input()\n",
    "for i in str1:\n",
    "    print(ord(i),end=' ')"
   ]
  },
  {
   "cell_type": "code",
   "execution_count": 6,
   "metadata": {},
   "outputs": [],
   "source": [
    "# printing even ASCII Values of characters present in the given string"
   ]
  },
  {
   "cell_type": "code",
   "execution_count": 31,
   "metadata": {},
   "outputs": [
    {
     "name": "stdout",
     "output_type": "stream",
     "text": [
      "python\n",
      "112 116 104 110 "
     ]
    }
   ],
   "source": [
    "str1=input()\n",
    "for i in str1:\n",
    "    if(ord(i)%2==0):\n",
    "        print(ord(i),end=' ')"
   ]
  },
  {
   "cell_type": "code",
   "execution_count": 23,
   "metadata": {},
   "outputs": [],
   "source": [
    "# play with ASCII Values"
   ]
  },
  {
   "cell_type": "code",
   "execution_count": 30,
   "metadata": {},
   "outputs": [
    {
     "name": "stdout",
     "output_type": "stream",
     "text": [
      "Python\n",
      "P ¢ t h  n "
     ]
    }
   ],
   "source": [
    "str1=input()\n",
    "for i in str1:\n",
    "    if(ord(i)%2==0):\n",
    "        print(chr(ord(i)),end=' ')\n",
    "    else:\n",
    "        x=ord(i)*ord(i)\n",
    "        a=x//90\n",
    "        print(chr(a),end=\" \")"
   ]
  },
  {
   "cell_type": "markdown",
   "metadata": {},
   "source": [
    "* ***while loop***"
   ]
  },
  {
   "cell_type": "code",
   "execution_count": 39,
   "metadata": {},
   "outputs": [
    {
     "name": "stdout",
     "output_type": "stream",
     "text": [
      "1 2 3 4 5 6 7 8 9 "
     ]
    }
   ],
   "source": [
    "i=1\n",
    "while(i<10):\n",
    "    print(i,end=\" \")\n",
    "    i=i+1"
   ]
  },
  {
   "cell_type": "code",
   "execution_count": 40,
   "metadata": {},
   "outputs": [
    {
     "name": "stdout",
     "output_type": "stream",
     "text": [
      "2 4 6 8 10 "
     ]
    }
   ],
   "source": [
    "i=1\n",
    "while(i<=10):\n",
    "    if(i%2==0):\n",
    "        print(i,end=\" \")\n",
    "    i=i+1"
   ]
  },
  {
   "cell_type": "markdown",
   "metadata": {},
   "source": [
    "### Functions\n",
    "* block of statements/sestof statements to perform a particular task is called a function\n",
    "* block of statements will return the result when the function is called\n",
    "##### Function contains\n",
    "1. function declaration\n",
    "2. body of function\n",
    "3. function call\n",
    "##### Types of  Functions\n",
    "1. user defined function\n",
    "2. built_in function\n",
    "\n",
    "### Built_in Functions\n",
    "1. max()-->used to calcaulate the maximum value\n",
    "2. min()-->used to calculate the minimum value\n",
    "3. sum()-->used to calculate the sum\n",
    "4. len()-->used to calculate length of strings\n",
    "5. ord()-->to get ASCII values\n",
    "6. chr()-->to get characters from ASCII values\n",
    "7. abs()-->used to get absolute(positive) values\n",
    "\n",
    "### user defined functions\n",
    "* functions that are defined by the users are called as user defined functions\n",
    "###### types of  user  defined functions\n",
    "1. required arguments\n",
    "2. default arguments\n",
    "3. keyword arguments\n",
    "4. variable length\n",
    " "
   ]
  },
  {
   "cell_type": "markdown",
   "metadata": {},
   "source": [
    "##### syntax  of function\n",
    "     def func_name(args):\n",
    "         body of function\n",
    "     func_name()"
   ]
  },
  {
   "cell_type": "code",
   "execution_count": 45,
   "metadata": {},
   "outputs": [],
   "source": [
    "#Greetings"
   ]
  },
  {
   "cell_type": "code",
   "execution_count": 46,
   "metadata": {},
   "outputs": [
    {
     "name": "stdout",
     "output_type": "stream",
     "text": [
      "Welcome to VLITS\n"
     ]
    }
   ],
   "source": [
    "def sample():\n",
    "    print(\"Welcome to VLITS\")\n",
    "sample()"
   ]
  },
  {
   "cell_type": "code",
   "execution_count": 47,
   "metadata": {},
   "outputs": [
    {
     "name": "stdout",
     "output_type": "stream",
     "text": [
      "python\n",
      "Welcome to VLITS python\n"
     ]
    }
   ],
   "source": [
    "name=input()\n",
    "def sample():\n",
    "    print(\"Welcome to VLITS\",name)\n",
    "sample()\n"
   ]
  },
  {
   "cell_type": "code",
   "execution_count": 49,
   "metadata": {},
   "outputs": [],
   "source": [
    "# Demonstration to Local Variables"
   ]
  },
  {
   "cell_type": "code",
   "execution_count": 51,
   "metadata": {},
   "outputs": [
    {
     "name": "stdout",
     "output_type": "stream",
     "text": [
      "5\n",
      "6\n",
      "5 , 6\n"
     ]
    }
   ],
   "source": [
    "def local():\n",
    "    n=int(input())\n",
    "    n1=int(input())\n",
    "    print(n,\",\",n1)\n",
    "local()"
   ]
  },
  {
   "cell_type": "code",
   "execution_count": 52,
   "metadata": {},
   "outputs": [],
   "source": [
    "# Demonstration to Global Variables"
   ]
  },
  {
   "cell_type": "code",
   "execution_count": 53,
   "metadata": {},
   "outputs": [
    {
     "name": "stdout",
     "output_type": "stream",
     "text": [
      "5\n",
      "6\n",
      "5 , 6\n",
      "5 , 6\n"
     ]
    }
   ],
   "source": [
    "n=int(input())\n",
    "n1=int(input())\n",
    "def local():\n",
    "    print(n,\",\",n1)\n",
    "local()\n",
    "print(n,\",\",n1)"
   ]
  },
  {
   "cell_type": "code",
   "execution_count": 61,
   "metadata": {},
   "outputs": [
    {
     "name": "stdout",
     "output_type": "stream",
     "text": [
      "5\n",
      "120\n"
     ]
    }
   ],
   "source": [
    "n=int(input())\n",
    "def factorial(x):\n",
    "    fact=1\n",
    "    for i in range(1,x+1):\n",
    "        fact=fact*i\n",
    "    print(fact)\n",
    "def perfect_num(x):\n",
    "    sum1=0\n",
    "    if(x%2==0):\n",
    "        for i in range(1,x):\n",
    "            if(x%i==0):\n",
    "                sum1=sum1+i\n",
    "        if(x==sum1):\n",
    "            print(\"perfect number\")\n",
    "        else:\n",
    "            print(\"not a perfect number\")\n",
    "if(n%2==0):\n",
    "    perfect_num(n)\n",
    "else:\n",
    "    factorial(n)"
   ]
  },
  {
   "cell_type": "markdown",
   "metadata": {},
   "source": [
    "* ***Required Arguments***"
   ]
  },
  {
   "cell_type": "code",
   "execution_count": 65,
   "metadata": {},
   "outputs": [
    {
     "name": "stdout",
     "output_type": "stream",
     "text": [
      "name: python\n",
      "organisaton: VLITS\n",
      "phn.no: 9676077873\n"
     ]
    }
   ],
   "source": [
    "def required(name,org,phn):\n",
    "    print(\"name:\",name)\n",
    "    print(\"organisaton:\",org)\n",
    "    print(\"phn.no:\",phn)\n",
    "required('python','VLITS',9676077873)"
   ]
  },
  {
   "cell_type": "markdown",
   "metadata": {},
   "source": [
    "* **Default arguments**"
   ]
  },
  {
   "cell_type": "code",
   "execution_count": 66,
   "metadata": {},
   "outputs": [
    {
     "name": "stdout",
     "output_type": "stream",
     "text": [
      "addition: 9\n",
      "multiplication: 24\n",
      "addition: 15\n",
      "multiplication: 60\n"
     ]
    }
   ],
   "source": [
    "def default(a,b,c=10):\n",
    "    print(\"addition:\",a+b+c)\n",
    "    print(\"multiplication:\",a*b*c)\n",
    "default(3,2,4)\n",
    "default(3,2)"
   ]
  },
  {
   "cell_type": "markdown",
   "metadata": {},
   "source": [
    "* **Keyword Argument**"
   ]
  },
  {
   "cell_type": "code",
   "execution_count": 67,
   "metadata": {},
   "outputs": [
    {
     "name": "stdout",
     "output_type": "stream",
     "text": [
      "name: Kavya_sudhaTulluru\n",
      "user_name: Kavya@02\n"
     ]
    }
   ],
   "source": [
    "def keyword(fname,lname,uname):\n",
    "    print(\"name:\",fname+lname)\n",
    "    print(\"user_name:\",uname)\n",
    "keyword('Kavya_sudha','Tulluru','Kavya@02')"
   ]
  },
  {
   "cell_type": "code",
   "execution_count": 68,
   "metadata": {},
   "outputs": [
    {
     "name": "stdout",
     "output_type": "stream",
     "text": [
      "name: Kavya_SudhaTulluru\n",
      "user_name: Kavya@02\n"
     ]
    }
   ],
   "source": [
    "def keyword(fname,lname,uname):\n",
    "    print(\"name:\",fname+lname)\n",
    "    print(\"user_name:\",uname)\n",
    "keyword(fname='Kavya_Sudha',uname='Kavya@02',lname='Tulluru')"
   ]
  },
  {
   "cell_type": "code",
   "execution_count": null,
   "metadata": {},
   "outputs": [],
   "source": []
  }
 ],
 "metadata": {
  "kernelspec": {
   "display_name": "Python 3",
   "language": "python",
   "name": "python3"
  },
  "language_info": {
   "codemirror_mode": {
    "name": "ipython",
    "version": 3
   },
   "file_extension": ".py",
   "mimetype": "text/x-python",
   "name": "python",
   "nbconvert_exporter": "python",
   "pygments_lexer": "ipython3",
   "version": "3.8.5"
  }
 },
 "nbformat": 4,
 "nbformat_minor": 4
}
