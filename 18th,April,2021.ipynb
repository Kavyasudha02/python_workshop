{
 "cells": [
  {
   "cell_type": "markdown",
   "metadata": {},
   "source": [
    "### Packages and Modules"
   ]
  },
  {
   "cell_type": "markdown",
   "metadata": {},
   "source": [
    "##### Package:\n",
    "* collection of modules(folder)\n",
    "##### Modules:\n",
    "* pytohn file contains functions,objects and classes\n",
    "- accessed using import"
   ]
  },
  {
   "cell_type": "markdown",
   "metadata": {},
   "source": [
    "- packages are of two types.\n",
    "    - Built in\n",
    "            - Pandas\n",
    "            - Numpy\n",
    "            - Matplot lib\n",
    "            - Regular Expression\n",
    "     - user defined\n",
    "         - defined for our purpose\n",
    "- modules\n",
    "      - built in\n",
    "          - math\n",
    "          - time\n",
    "          - calender\n",
    "          - random"
   ]
  },
  {
   "cell_type": "code",
   "execution_count": null,
   "metadata": {},
   "outputs": [],
   "source": [
    "import math\n",
    "print(dir(math))"
   ]
  },
  {
   "cell_type": "code",
   "execution_count": null,
   "metadata": {},
   "outputs": [],
   "source": [
    "import math\n",
    "print(math.factorial(5))\n",
    "print(math.sqrt(5))\n",
    "print(math.sin(45))\n",
    "print(math.log10(5))\n",
    "print(math.pow(5,2))\n",
    "print(math.trunc(5))\n",
    "print(math.gcd(5,45))"
   ]
  },
  {
   "cell_type": "code",
   "execution_count": null,
   "metadata": {},
   "outputs": [],
   "source": [
    "import random\n",
    "print(dir(random))"
   ]
  },
  {
   "cell_type": "code",
   "execution_count": null,
   "metadata": {},
   "outputs": [],
   "source": [
    "random.randint(00000,99999)"
   ]
  },
  {
   "cell_type": "code",
   "execution_count": null,
   "metadata": {},
   "outputs": [],
   "source": [
    "random.randrange(1,100)"
   ]
  },
  {
   "cell_type": "code",
   "execution_count": null,
   "metadata": {},
   "outputs": [],
   "source": [
    "s='Python Programming'\n",
    "random.choice(s)"
   ]
  },
  {
   "cell_type": "code",
   "execution_count": null,
   "metadata": {},
   "outputs": [],
   "source": [
    "l=[1,2,3,4,5,6]\n",
    "print(random.shuffle(l))"
   ]
  },
  {
   "cell_type": "code",
   "execution_count": null,
   "metadata": {},
   "outputs": [],
   "source": [
    "import calendar\n",
    "print(dir(calendar))"
   ]
  },
  {
   "cell_type": "code",
   "execution_count": null,
   "metadata": {},
   "outputs": [],
   "source": [
    "print(calendar.calendar(1986))"
   ]
  },
  {
   "cell_type": "code",
   "execution_count": null,
   "metadata": {},
   "outputs": [],
   "source": [
    "import calendar\n",
    "print(calendar.isleap(2021))\n",
    "print(calendar.leapdays(2000,2021))"
   ]
  },
  {
   "cell_type": "code",
   "execution_count": null,
   "metadata": {},
   "outputs": [],
   "source": [
    "from package.module import duplicate\n",
    "l=[1,2,3,1,2,3,5,7]\n",
    "duplicate(l)"
   ]
  },
  {
   "cell_type": "code",
   "execution_count": null,
   "metadata": {},
   "outputs": [],
   "source": [
    "from package.module import unique\n",
    "l=[1,2,3,1,2,3,5,7]\n",
    "unique(l)"
   ]
  },
  {
   "cell_type": "code",
   "execution_count": null,
   "metadata": {},
   "outputs": [],
   "source": [
    "def unique(l):\n",
    "    l1=[]\n",
    "    for i in l:\n",
    "        if l.count(i)==1:\n",
    "            l1.append(i)\n",
    "    print(l1)\n",
    "unique([1,2,3,1,2,3,5,7])"
   ]
  },
  {
   "cell_type": "markdown",
   "metadata": {},
   "source": [
    "- Regular Expression\n",
    "    - built in package in python\n",
    "    - used to match specific pattern\n",
    "    - 3 functions\n",
    "        - match\n",
    "            - matches specific pattern\n",
    "        - search()\n",
    "            - returns first occurance while searching a character or substring\n",
    "        - findall()\n",
    "            - returns all possible occurances\n",
    "            - output in list format "
   ]
  },
  {
   "cell_type": "code",
   "execution_count": null,
   "metadata": {},
   "outputs": [],
   "source": [
    "import re\n",
    "print(re.search('p','python'))\n",
    "print(re.search('p','pythonprogramming'))\n",
    "print(re.search('z','python'))\n",
    "print(re.findall('p','pythonprogramming'))\n",
    "print(re.search('pyth','pythonpythprogramming'))\n",
    "print(re.findall('z','python'))\n",
    "print(re.findall('pyth','pythonpythprogramming'))"
   ]
  },
  {
   "cell_type": "markdown",
   "metadata": {},
   "source": [
    "#### some special symbols\n",
    "- ^ --> matches starting character\n",
    "- $ --> matches ending character\n",
    "- [0-9] --> numbers\n",
    "- [a-z] --> lower letters\n",
    "- [A-z] --> capital leters\n",
    "- [a-zA-z] --> both cases\n",
    "-[0-9]{4} -->accepts only 4 digit numbers\n",
    "- - --> matches any character\n",
    "- [@] --> matches special character\n",
    "- +--> matches more occurance"
   ]
  },
  {
   "cell_type": "code",
   "execution_count": null,
   "metadata": {},
   "outputs": [],
   "source": [
    "import re\n",
    "k='my 2 favorite numbers are 28 and 17'\n",
    "print(re.findall('[0-9]+',k))"
   ]
  },
  {
   "cell_type": "markdown",
   "metadata": {},
   "source": [
    "- Task\n",
    "- phone number validitation\n",
    "    - should contain 10 digits\n",
    "    - should start with 6,7,8,9\n",
    "    - starts with +91"
   ]
  },
  {
   "cell_type": "code",
   "execution_count": null,
   "metadata": {},
   "outputs": [],
   "source": [
    "phn=input()\n",
    "import re\n",
    "pattern='^[6-9][0-9]{9}$'\n",
    "if re.match(pattern,phn):\n",
    "    print('valid number')\n",
    "else:\n",
    "    print('not valid')"
   ]
  },
  {
   "cell_type": "code",
   "execution_count": null,
   "metadata": {},
   "outputs": [],
   "source": [
    "phn=input()\n",
    "import re\n",
    "pattern='^[6-9][0-9]{9}$|^[+][9][1][6-9][0-9]{9}$'\n",
    "if re.match(pattern,phn):\n",
    "    print('valid number')\n",
    "\n",
    "else:\n",
    "    print('not valid')"
   ]
  },
  {
   "cell_type": "markdown",
   "metadata": {},
   "source": [
    "######  email validation\n",
    "- username@domain.extension\n",
    "- username specifications\n",
    "    - length min 6 max 20\n",
    "    - accepts underscore and dot\n",
    "    - starts with number or alphabets\n",
    "- domain\n",
    "    - length min 5 max 10\n",
    "    - contains only alphabets\n",
    "- extensions\n",
    "    - min 3\n",
    "    - contains only alphabets\n",
    "    "
   ]
  },
  {
   "cell_type": "code",
   "execution_count": 1,
   "metadata": {},
   "outputs": [
    {
     "name": "stdout",
     "output_type": "stream",
     "text": [
      "kavya.tulluru02@gmail.com\n",
      "not valid\n"
     ]
    }
   ],
   "source": [
    "mail=input()\n",
    "import re\n",
    "pattern='^[0-9a-z][0-9a-z_.]{5,20}[@][a-z]{5-10}[.][a-z]{2,5}$'\n",
    "if re.match(pattern,mail):\n",
    "    print('valid')\n",
    "else:\n",
    "    print('not valid')"
   ]
  },
  {
   "cell_type": "markdown",
   "metadata": {},
   "source": [
    "- File Handling\n",
    "    - used to store information\n",
    "    - open files\n",
    "        - open(filepath,mode)\n",
    "        - with open()\n",
    "    - operations\n",
    "        - read\n",
    "        - write\n",
    "        - append\n",
    "    - close files\n",
    "        - "
   ]
  },
  {
   "cell_type": "code",
   "execution_count": 2,
   "metadata": {},
   "outputs": [
    {
     "name": "stdout",
     "output_type": "stream",
     "text": [
      "file for demo purpose\n"
     ]
    }
   ],
   "source": [
    "#using open()\n",
    "f=open('datafiles/demo.txt')\n",
    "fh=f.read()\n",
    "print(fh)"
   ]
  },
  {
   "cell_type": "code",
   "execution_count": 7,
   "metadata": {},
   "outputs": [
    {
     "name": "stdout",
     "output_type": "stream",
     "text": [
      "12\n"
     ]
    }
   ],
   "source": [
    "f=open('datafiles/demo.txt','w')\n",
    "data=f.write('hi..........')\n",
    "f.close()\n",
    "print(data)\n"
   ]
  },
  {
   "cell_type": "code",
   "execution_count": 10,
   "metadata": {},
   "outputs": [
    {
     "name": "stdout",
     "output_type": "stream",
     "text": [
      "hi..........\n"
     ]
    }
   ],
   "source": [
    "with open('datafiles/demo.txt') as info:\n",
    "    fh=info.read()\n",
    "    print(fh)"
   ]
  },
  {
   "cell_type": "code",
   "execution_count": 11,
   "metadata": {},
   "outputs": [
    {
     "ename": "FileNotFoundError",
     "evalue": "[Errno 2] No such file or directory: 'datafiles/demo1.txt'",
     "output_type": "error",
     "traceback": [
      "\u001b[1;31m---------------------------------------------------------------------------\u001b[0m",
      "\u001b[1;31mFileNotFoundError\u001b[0m                         Traceback (most recent call last)",
      "\u001b[1;32m<ipython-input-11-b48c6f4d99b5>\u001b[0m in \u001b[0;36m<module>\u001b[1;34m\u001b[0m\n\u001b[1;32m----> 1\u001b[1;33m \u001b[1;32mwith\u001b[0m \u001b[0mopen\u001b[0m\u001b[1;33m(\u001b[0m\u001b[1;34m'datafiles/demo1.txt'\u001b[0m\u001b[1;33m)\u001b[0m \u001b[1;32mas\u001b[0m \u001b[0minfo\u001b[0m\u001b[1;33m:\u001b[0m\u001b[1;33m\u001b[0m\u001b[1;33m\u001b[0m\u001b[0m\n\u001b[0m\u001b[0;32m      2\u001b[0m     \u001b[0mfh\u001b[0m\u001b[1;33m=\u001b[0m\u001b[0minfo\u001b[0m\u001b[1;33m.\u001b[0m\u001b[0mread\u001b[0m\u001b[1;33m(\u001b[0m\u001b[1;33m)\u001b[0m\u001b[1;33m\u001b[0m\u001b[1;33m\u001b[0m\u001b[0m\n\u001b[0;32m      3\u001b[0m     \u001b[0mprint\u001b[0m\u001b[1;33m(\u001b[0m\u001b[0mfh\u001b[0m\u001b[1;33m)\u001b[0m\u001b[1;33m\u001b[0m\u001b[1;33m\u001b[0m\u001b[0m\n",
      "\u001b[1;31mFileNotFoundError\u001b[0m: [Errno 2] No such file or directory: 'datafiles/demo1.txt'"
     ]
    }
   ],
   "source": [
    "with open('datafiles/demo1.txt') as info:      #creates error\n",
    "    fh=info.read()\n",
    "    print(fh)"
   ]
  },
  {
   "cell_type": "code",
   "execution_count": 18,
   "metadata": {},
   "outputs": [
    {
     "name": "stdout",
     "output_type": "stream",
     "text": [
      "hiiiiiiii\n"
     ]
    }
   ],
   "source": [
    "with open('datafiles/demo1.txt','w') as info:\n",
    "    fh=info.write(\"hiiiiiiii\")\n",
    "with open('datafiles/demo1.txt','r') as info:\n",
    "    fh=info.read()\n",
    "    print(fh)"
   ]
  },
  {
   "cell_type": "code",
   "execution_count": 20,
   "metadata": {},
   "outputs": [
    {
     "name": "stdout",
     "output_type": "stream",
     "text": [
      "34\n"
     ]
    }
   ],
   "source": [
    "with open('datafiles/charcount.txt') as info:     ## char count\n",
    "    fh=info.read()\n",
    "    count=0\n",
    "    for i in fh:\n",
    "        if i!=\" \":\n",
    "            count=count+1\n",
    "print(count)"
   ]
  },
  {
   "cell_type": "code",
   "execution_count": 21,
   "metadata": {},
   "outputs": [
    {
     "data": {
      "text/plain": [
       "_io.TextIOWrapper"
      ]
     },
     "execution_count": 21,
     "metadata": {},
     "output_type": "execute_result"
    }
   ],
   "source": [
    "type(info)"
   ]
  },
  {
   "cell_type": "code",
   "execution_count": 22,
   "metadata": {},
   "outputs": [
    {
     "data": {
      "text/plain": [
       "str"
      ]
     },
     "execution_count": 22,
     "metadata": {},
     "output_type": "execute_result"
    }
   ],
   "source": [
    "type(fh)"
   ]
  },
  {
   "cell_type": "code",
   "execution_count": 30,
   "metadata": {},
   "outputs": [
    {
     "name": "stdout",
     "output_type": "stream",
     "text": [
      "5\n"
     ]
    }
   ],
   "source": [
    "with open('datafiles/charcount.txt') as info:     ##word count\n",
    "    fh=info.read()\n",
    "    count=0\n",
    "    for i in fh:\n",
    "        if i==\" \":\n",
    "            count+=1\n",
    "print(count+1)"
   ]
  },
  {
   "cell_type": "code",
   "execution_count": 27,
   "metadata": {},
   "outputs": [
    {
     "name": "stdout",
     "output_type": "stream",
     "text": [
      "5\n"
     ]
    }
   ],
   "source": [
    "with open('datafiles/charcount.txt') as info:\n",
    "    fh=info.read()\n",
    "l=fh.split()\n",
    "print(len(l))\n"
   ]
  },
  {
   "cell_type": "code",
   "execution_count": 29,
   "metadata": {},
   "outputs": [
    {
     "name": "stdout",
     "output_type": "stream",
     "text": [
      "Welcome to vignan's lara for python programming File handling and data processing concepts workshop "
     ]
    }
   ],
   "source": [
    "with open('datafiles/removeduplicate.txt') as info:\n",
    "    fh=info.read()\n",
    "l=fh.split()\n",
    "l1=[]\n",
    "for i in l:\n",
    "    if(i not in l1):\n",
    "        l1.append(i)\n",
    "for i in l1:\n",
    "    print(i,end=\" \")\n"
   ]
  },
  {
   "cell_type": "code",
   "execution_count": 35,
   "metadata": {},
   "outputs": [
    {
     "name": "stdout",
     "output_type": "stream",
     "text": [
      "{'e': 3, 'n': 3, 'g': 2, 'i': 2, 'r': 1}\n"
     ]
    }
   ],
   "source": [
    "with open('datafiles/demo1.txt') as info:\n",
    "    fh=info.read()\n",
    "d={}\n",
    "for i in fh:\n",
    "    d[i]=fh.count(i)\n",
    "print(d)"
   ]
  },
  {
   "cell_type": "code",
   "execution_count": 1,
   "metadata": {},
   "outputs": [
    {
     "name": "stdout",
     "output_type": "stream",
     "text": [
      "student count:5\n",
      "lower range:0\n",
      "upper range:10\n"
     ]
    }
   ],
   "source": [
    "from random import randint\n",
    "def marksgen(n,lb,ub):\n",
    "    with open('datafiles/marks.txt','w') as f:\n",
    "        for i in range(0,n):\n",
    "            r=randint(lb,ub)\n",
    "            f.write(str(r)+'\\n')\n",
    "    return\n",
    "n=int(input(\"student count:\"))\n",
    "lb=int(input(\"lower range:\"))\n",
    "ub=int(input(\"upper range:\"))\n",
    "marksgen(n,lb,ub)"
   ]
  },
  {
   "cell_type": "code",
   "execution_count": null,
   "metadata": {},
   "outputs": [],
   "source": []
  }
 ],
 "metadata": {
  "kernelspec": {
   "display_name": "Python 3",
   "language": "python",
   "name": "python3"
  },
  "language_info": {
   "codemirror_mode": {
    "name": "ipython",
    "version": 3
   },
   "file_extension": ".py",
   "mimetype": "text/x-python",
   "name": "python",
   "nbconvert_exporter": "python",
   "pygments_lexer": "ipython3",
   "version": "3.8.5"
  }
 },
 "nbformat": 4,
 "nbformat_minor": 4
}
